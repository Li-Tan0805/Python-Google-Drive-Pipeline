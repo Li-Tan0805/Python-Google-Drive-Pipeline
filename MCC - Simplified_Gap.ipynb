{
 "cells": [
  {
   "cell_type": "code",
   "execution_count": 1,
   "metadata": {},
   "outputs": [],
   "source": [
    "from pydrive.auth import GoogleAuth\n",
    "from pydrive.drive import GoogleDrive\n",
    "import os\n",
    "import pandas as pd\n",
    "import numpy as np\n",
    "from datetime import datetime\n",
    "import glob\n",
    "import yagmail"
   ]
  },
  {
   "cell_type": "code",
   "execution_count": 2,
   "metadata": {},
   "outputs": [
    {
     "name": "stdout",
     "output_type": "stream",
     "text": [
      "Your browser has been opened to visit:\n",
      "\n",
      "    https://accounts.google.com/o/oauth2/auth?client_id=841426274923-leg1iqi48mjquh0j8h0qdgrqnsf81r4d.apps.googleusercontent.com&redirect_uri=http%3A%2F%2Flocalhost%3A8080%2F&scope=https%3A%2F%2Fwww.googleapis.com%2Fauth%2Fdrive&access_type=offline&response_type=code\n",
      "\n",
      "Authentication successful.\n"
     ]
    }
   ],
   "source": [
    "# Authentication\n",
    "\n",
    "authentication_path = 'C:\\File\\MCC Script - Python' # this is the folder where client_secrets.json is located\n",
    "os.chdir(authentication_path.replace('[\\]','[\\\\]'))\n",
    "gauth = GoogleAuth()\n",
    "gauth.LocalWebserverAuth()\n",
    "drive = GoogleDrive(gauth)"
   ]
  },
  {
   "cell_type": "code",
   "execution_count": 3,
   "metadata": {},
   "outputs": [],
   "source": [
    "# Set up target google drive folder, paths, authentication\n",
    "\n",
    "Gap_BD_ID = '1QMEi_euxRo7VVLzMd73FgQhELeSL_519' \n",
    "\n",
    "function_path = 'C:\\File\\MCC Script - Python' # this is the folder where MCC_Function.py is located\n",
    "file_save_location = 'C:\\File\\Buy Details\\For Python\\Gap' # this is the folder to save BDs\n",
    "output_location = 'C:\\File\\Buy Details\\For Python\\Gap - Output' # this is the folder to save master file and problematic file\n"
   ]
  },
  {
   "cell_type": "code",
   "execution_count": 4,
   "metadata": {},
   "outputs": [],
   "source": [
    "# Load functions\n",
    "\n",
    "os.chdir(function_path.replace('[\\]','[\\\\]'))\n",
    "import MCC_Functions as MF"
   ]
  },
  {
   "cell_type": "code",
   "execution_count": 5,
   "metadata": {},
   "outputs": [],
   "source": [
    "# Clear folder\n",
    "\n",
    "os.chdir(file_save_location.replace('[\\]','[\\\\]'))\n",
    "files = os.listdir()\n",
    "for f in files:\n",
    "    os.remove(f)"
   ]
  },
  {
   "cell_type": "code",
   "execution_count": 6,
   "metadata": {},
   "outputs": [
    {
     "name": "stdout",
     "output_type": "stream",
     "text": [
      "Done!\n"
     ]
    }
   ],
   "source": [
    "# Download and combine BDs\n",
    "\n",
    "problematic_rows = MF.Gap_BD_download(Gap_BD_ID, file_save_location, output_location, drive)\n",
    "problematic_summary = problematic_rows.loc[:,['Buy Details']]"
   ]
  },
  {
   "cell_type": "code",
   "execution_count": 7,
   "metadata": {},
   "outputs": [
    {
     "name": "stdout",
     "output_type": "stream",
     "text": [
      "Email Sent!\n"
     ]
    }
   ],
   "source": [
    "# Send Email\n",
    "\n",
    "username = 'xxxxxx' # email account\n",
    "password = 'xxxxxx' # email account password\n",
    "problematic_email_title = 'Gap Buy Details Issues' # email title\n",
    "problematic_recipient = ['li.tan@akqa.com'] # recipient\n",
    "problematic_files = problematic_summary.drop_duplicates()\n",
    "description = '\\n'\n",
    "for each in problematic_files['Buy Details']:\n",
    "    description = description + each + '\\n'\n",
    "problematic_contents = [\n",
    "    \"Below are the BDs with problems, more info attached:\", \n",
    "    description,\n",
    "   output_location.replace('[\\]','[\\\\]') + '\\\\Gap Problematic File.csv'\n",
    "]\n",
    "\n",
    "# send problematic file\n",
    "MF.send_email(username, password, problematic_email_title, problematic_recipient, problematic_contents) "
   ]
  },
  {
   "cell_type": "code",
   "execution_count": 7,
   "metadata": {},
   "outputs": [
    {
     "name": "stdout",
     "output_type": "stream",
     "text": [
      "Email Sent!\n",
      "Email Sent!\n"
     ]
    }
   ],
   "source": [
    "master_email_title = 'Gap Master BD' # email title\n",
    "master_recipient = ['Manuel.Rivera@akqa.com', 'F9438B9AF5434F678E7AEAFC38834BF6@dbx.datorama.com',\n",
    "                   '6CF4F978E5334D0DB03B4FDDE1F57D67@dbx.datorama.com'] # recipient\n",
    "master_contents = [\n",
    "    output_location.replace('[\\]','[\\\\]') + '\\\\Gap BD Master File.csv'\n",
    "]\n",
    "# send master BD file\n",
    "MF.send_email(username, password, master_email_title, master_recipient, master_contents)"
   ]
  },
  {
   "cell_type": "code",
   "execution_count": null,
   "metadata": {},
   "outputs": [],
   "source": []
  }
 ],
 "metadata": {
  "kernelspec": {
   "display_name": "Python 3",
   "language": "python",
   "name": "python3"
  },
  "language_info": {
   "codemirror_mode": {
    "name": "ipython",
    "version": 3
   },
   "file_extension": ".py",
   "mimetype": "text/x-python",
   "name": "python",
   "nbconvert_exporter": "python",
   "pygments_lexer": "ipython3",
   "version": "3.6.5"
  }
 },
 "nbformat": 4,
 "nbformat_minor": 2
}
